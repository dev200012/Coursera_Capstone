{
 "cells": [
  {
   "cell_type": "markdown",
   "metadata": {},
   "source": [
    "# FINAL REPORT\n",
    "## introduction\n"
   ]
  },
  {
   "cell_type": "markdown",
   "metadata": {},
   "source": [
    "### A.1. Background Description"
   ]
  },
  {
   "cell_type": "markdown",
   "metadata": {},
   "source": [
    "<P>\n",
    "Traffic accidents result in severe fatalities across the world and are the leading cause of death for people aged 15-29. Weather patterns can have a dramatic impact on the safety of driving in specific regions, due to limited visibility and reduced grip from tyres.\n",
    "\n",
    "When people start planning their trips between places they tend to check their route first and see estimated time to arrival, but often don’t see any warnings for weather or increased accident risks on certain roads. Due to this, drivers might end up taking a dangerous route and encounter treacherous road surfaces and end up in an accident.\n",
    "<P>"
   ]
  },
  {
   "cell_type": "markdown",
   "metadata": {},
   "source": [
    "#### According to Road Crash Statistics\n",
    " \n",
    "Approximately 1.35 million people die in road crashes annually, on average 3,700 people lose their lives every day on the roads.\n",
    "\n",
    "An additional 20–50 million suffer non-fatal injuries, often resulting in long-term disabilities.\n",
    "        "
   ]
  },
  {
   "cell_type": "markdown",
   "metadata": {},
   "source": [
    "### A.2 Problem \n",
    "The objective is to explore a year 2019 dataset from the Swiss Federal Statistics Office (OFS) and determine what are the key factors that drive the outcome of an accident for the involved car(s)' passengers: light injuries, severe injuries, fatal outcome. Additionally, the outcomes of this analysis can be used as a prescriptive tool to :\n",
    "\n",
    "(1) Have the appropriate medical emergency resources allocated for the times, locations and circumstances when accidents are most likely to occur, with a particular emphasis on the severe and life-threatening cases.\n",
    "\n",
    "(2) Design prevention measures based on those accident factors identified as having the largest influence on accident outcomes.\n",
    "### 1.3 Interest \n",
    "By being able to allocate medical emergency resources more efficiently and by being able to reduce injuries and deaths through prevention campaigns, society as a whole will reduce the economic impact of road hazards. This analysis is therefore aimed at decision-makers of the Swiss Confederation, notably those in charge of Transportation and Medical Affairs. Beyond economic considerations, there is also a moral value in reducing the suffering and deaths of the thousands of people affected by road accidents.\n"
   ]
  },
  {
   "cell_type": "markdown",
   "metadata": {},
   "source": [
    "## 2. Data Sources and Cleaning \n",
    "### 2.1 Data Sources \n",
    "The dataset used here is defined as \"Road accidents where at least one of the parties was injured or worse\". As a result, this dataset does not report on material damages or other consequences than bodily injuries. It is also worth noting that this dataset does not distinguish between what exact type of vehicle was involved, whether a car, bicycle, motorcycle, tractor, pedestrian, skater, etc. The dataset used in this analysis was obtained from the website of the Swiss Federal Statistics Office (OFS). A data browser allows the user to select the dimensions and time range of interest, within the limits of the Office's data structure. The used time range is the calendar year 2019. No other data source was used.\n",
    "\n",
    "The variables in this dataset are :\n",
    "\n",
    "Types of accidents : TYPE_ACCIDENT\n",
    "\n",
    "Type of road: TYPE_ROAD\n",
    "\n",
    "Severity of the accident: SEVERITY (the dependent variable)\n",
    "\n",
    "Month of the accident: MONTH\n",
    "\n",
    "Day of the week: DAY\n",
    "\n",
    "Time of the accident: TIME_ACCIDENT\n",
    "\n",
    "More details are provided below:\n",
    "\n",
    "Types of accidents\n",
    "\n",
    "SKID: The vehicle went into a skid/sideslid and/or the driver lost control of the car.\n",
    "\n",
    "OVERTAKE : While trying to overtake or changing lanes. This also includes the variable state where the accident happened when the vehicle was returning to its original lane.\n",
    "\n",
    "TURNING: While the vehicle was turning to change directions, ie. enter a new road.\n",
    "\n",
    "INTERSECTION: Accident taking place at a crossroad or junction of two roads with the two implied vehicles staying on their respective roads.\n",
    "\n",
    "BACK: The vehicle crashed into the back of another vehicle that was either mobile or immobile.\n",
    "\n",
    "PARKING: While getting in or out of a parking spot.\n",
    "\n",
    "ANIMAL: Accident created by an animal.\n",
    "\n",
    "FRONTAL: Frontal collisions. PEDESTRIANS: Accidents involving one or several pedestrians. OTHERACC: Other types not captured in the categories above.\n",
    "\n",
    "Time of the accident\n",
    "\n",
    "NIGHT : Between midnight and 6am\n",
    "\n",
    "MORNING: Between 6am and noon\n",
    "\n",
    "AFTNOON: Between noon and 6pm\n",
    "\n",
    "EVENING: Between 6pm and midnight\n",
    "\n",
    "Day of the week The days were grouped into two categories : Weekday (WEEKDAY) and Weekend (WEEKEND)\n",
    "\n",
    "Month For simplicity, the data has been grouped into seasons which are representative of average road conditions0\n",
    ". WINTER: \n",
    "Dec-Feb #Icy roads SPRING: Mar-May\n",
    "#Can be misty or rainy SUMMER: Jun-Aug\n",
    "#Generally good road conditions FALL: Sep-Nov\n",
    "#Slippery fallen leaves and rains\n",
    "\n",
    "Severity of the accident\n",
    "\n",
    "LIGHT_INJURIES: Light injuries to at least one of the involved parties.\n",
    "\n",
    "SEVERE_INJURIES: Severe injuries to at least one of the involved parties.\n",
    "\n",
    "DEATH: Death of at least one of the involved parties.\n",
    "\n",
    "Type of road The following road types have been grouped in two buckets representative of their respective maximum speed.\n",
    "\n",
    "HWY: Highways, semi-highways and similars. The speed limit is typically 120 km/h, respectively 100 km/h for the semis.\n",
    "\n",
    "NONHWY: Main roads, secondary roads and other roads. The speed limit is typically 80 km/h or less.\n",
    "\n"
   ]
  },
  {
   "cell_type": "markdown",
   "metadata": {},
   "source": []
  },
  {
   "cell_type": "markdown",
   "metadata": {},
   "source": []
  },
  {
   "cell_type": "code",
   "execution_count": null,
   "metadata": {},
   "outputs": [],
   "source": []
  }
 ],
 "metadata": {
  "kernelspec": {
   "display_name": "Python 3",
   "language": "python",
   "name": "python3"
  },
  "language_info": {
   "codemirror_mode": {
    "name": "ipython",
    "version": 3
   },
   "file_extension": ".py",
   "mimetype": "text/x-python",
   "name": "python",
   "nbconvert_exporter": "python",
   "pygments_lexer": "ipython3",
   "version": "3.7.6"
  }
 },
 "nbformat": 4,
 "nbformat_minor": 4
}
